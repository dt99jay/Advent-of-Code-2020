{
 "cells": [
  {
   "cell_type": "code",
   "execution_count": 1,
   "id": "b6e0b65d-6112-4ae7-9182-3e7f4e828cdb",
   "metadata": {
    "tags": []
   },
   "outputs": [
    {
     "name": "stdout",
     "output_type": "stream",
     "text": [
      "env: AOC_SESSION=53616c7465645f5faa3bce4e298f508950dc5935cd6a37cad9f02fc980bd32816e4932bf6f62122c08192fef1afb6b53359e722665721859c9e951bd28d642b1\n"
     ]
    }
   ],
   "source": [
    "from itertools import combinations\n",
    "from math import prod\n",
    "from aocd import get_data\n",
    "import numpy as np\n",
    "import re"
   ]
  },
  {
   "cell_type": "markdown",
   "id": "e271ae10",
   "metadata": {},
   "source": [
    "### Day One"
   ]
  },
  {
   "cell_type": "code",
   "execution_count": 2,
   "id": "d321ef4e-302a-40b0-9a29-b9afb1442b9e",
   "metadata": {
    "tags": []
   },
   "outputs": [],
   "source": [
    "input_data = \"\"\"1721\n",
    "979\n",
    "366\n",
    "299\n",
    "675\n",
    "1456\"\"\""
   ]
  },
  {
   "cell_type": "code",
   "execution_count": 3,
   "id": "6af216f1-9542-4e3d-9ec5-57b2ca460bd9",
   "metadata": {
    "tags": []
   },
   "outputs": [],
   "source": [
    "input_data = get_data(day=1, year=2020)"
   ]
  },
  {
   "cell_type": "code",
   "execution_count": 4,
   "id": "286819e1-c133-46cd-8dd7-9615422944df",
   "metadata": {
    "tags": []
   },
   "outputs": [
    {
     "name": "stdout",
     "output_type": "stream",
     "text": [
      "1018944\n",
      "8446464\n"
     ]
    }
   ],
   "source": [
    "# Parts One and Two\n",
    "\n",
    "expenses = [int(i) for i in input_data.split()]\n",
    "for n in [2, 3]:\n",
    "    pairs = combinations(expenses, n)\n",
    "    for pair in pairs:\n",
    "        if sum(pair)==2020:\n",
    "            print(prod(pair))"
   ]
  },
  {
   "cell_type": "markdown",
   "id": "6eb300d7-6fae-4058-81c2-0c3f68da11a5",
   "metadata": {
    "tags": []
   },
   "source": [
    "### Day Two"
   ]
  },
  {
   "cell_type": "code",
   "execution_count": 5,
   "id": "19699704-2158-4274-b558-392394a3b406",
   "metadata": {
    "tags": []
   },
   "outputs": [],
   "source": [
    "input_data = \"\"\"1-3 a: abcde\n",
    "1-3 b: cdefg\n",
    "2-9 c: ccccccccc\"\"\""
   ]
  },
  {
   "cell_type": "code",
   "execution_count": 6,
   "id": "f354aba1-2321-4372-9ddb-181bb6f8022d",
   "metadata": {
    "tags": []
   },
   "outputs": [],
   "source": [
    "input_data = get_data(day=2, year=2020)"
   ]
  },
  {
   "cell_type": "code",
   "execution_count": 7,
   "id": "de27d62a-9245-4a1b-9f67-bedf753785f7",
   "metadata": {
    "tags": []
   },
   "outputs": [
    {
     "data": {
      "text/plain": [
       "519"
      ]
     },
     "execution_count": 7,
     "metadata": {},
     "output_type": "execute_result"
    }
   ],
   "source": [
    "# Part One\n",
    "\n",
    "db = [l.split() for l in input_data.split(\"\\n\")]\n",
    "valid = 0\n",
    "for rules, character, password in db:\n",
    "    n = password.count(character[0])\n",
    "    lower, upper = rules.split(\"-\")\n",
    "    if n >= int(lower) and n <= int(upper):\n",
    "        valid += 1\n",
    "valid"
   ]
  },
  {
   "cell_type": "code",
   "execution_count": 8,
   "id": "fbecc6f3-c937-4f54-a46c-756a186efa90",
   "metadata": {
    "tags": []
   },
   "outputs": [
    {
     "data": {
      "text/plain": [
       "708"
      ]
     },
     "execution_count": 8,
     "metadata": {},
     "output_type": "execute_result"
    }
   ],
   "source": [
    "# Part Two\n",
    "\n",
    "db = [l.split() for l in input_data.split(\"\\n\")]\n",
    "valid = 0\n",
    "for rules, character, password in db:\n",
    "    lower, upper = [int(i) for i in rules.split(\"-\")]\n",
    "    if (password[lower-1] == character[0]) ^ (password[upper-1] == character[0]):\n",
    "        valid += 1\n",
    "\n",
    "valid"
   ]
  },
  {
   "cell_type": "markdown",
   "id": "a798fbf7-f2f6-454e-bfe9-2bb7bbde2097",
   "metadata": {
    "tags": []
   },
   "source": [
    "### Day Three"
   ]
  },
  {
   "cell_type": "code",
   "execution_count": 9,
   "id": "39880801-5720-4595-9654-fefeff9d02a5",
   "metadata": {},
   "outputs": [],
   "source": [
    "input_data = \"\"\"..##.......\n",
    "#...#...#..\n",
    ".#....#..#.\n",
    "..#.#...#.#\n",
    ".#...##..#.\n",
    "..#.##.....\n",
    ".#.#.#....#\n",
    ".#........#\n",
    "#.##...#...\n",
    "#...##....#\n",
    ".#..#...#.#\"\"\""
   ]
  },
  {
   "cell_type": "code",
   "execution_count": 10,
   "id": "e3ff353a-15f9-47ee-a082-f1036c3fe76e",
   "metadata": {
    "tags": []
   },
   "outputs": [],
   "source": [
    "input_data = get_data(day=3, year=2020)"
   ]
  },
  {
   "cell_type": "code",
   "execution_count": 11,
   "id": "0c4bebe2-7893-41d3-b9ec-8894713d737b",
   "metadata": {
    "tags": []
   },
   "outputs": [],
   "source": [
    "map_grid = [list(i) for i in input_data.split()]\n",
    "map_grid = np.array(map_grid)\n",
    "map_grid = np.where(map_grid==\"#\", 1, 0)"
   ]
  },
  {
   "cell_type": "code",
   "execution_count": 12,
   "id": "a801550c-b2b0-4aa0-9243-b98237f11091",
   "metadata": {
    "tags": []
   },
   "outputs": [
    {
     "data": {
      "text/plain": [
       "230"
      ]
     },
     "execution_count": 12,
     "metadata": {},
     "output_type": "execute_result"
    }
   ],
   "source": [
    "# Part One\n",
    "\n",
    "trees=0\n",
    "position=[0,0]\n",
    "\n",
    "for row in range(map_grid.shape[0]-1): # Map height-1\n",
    "    position[0]+=1\n",
    "    position[1]+=3\n",
    "    trees += map_grid[(position[0], position[1] % map_grid.shape[1])]\n",
    "\n",
    "trees"
   ]
  },
  {
   "cell_type": "code",
   "execution_count": 13,
   "id": "014bf573-d7fb-41dd-9c96-44ad7b9b3080",
   "metadata": {
    "tags": []
   },
   "outputs": [
    {
     "data": {
      "text/plain": [
       "9533698720"
      ]
     },
     "execution_count": 13,
     "metadata": {},
     "output_type": "execute_result"
    }
   ],
   "source": [
    "# Part Two\n",
    "\n",
    "all_trees=[]\n",
    "\n",
    "slopes = [\n",
    "    {\"across\": 1, \"down\": 1},\n",
    "    {\"across\": 3, \"down\": 1},\n",
    "    {\"across\": 5, \"down\": 1},\n",
    "    {\"across\": 7, \"down\": 1},\n",
    "    {\"across\": 1, \"down\": 2},\n",
    "]\n",
    "\n",
    "for slope in slopes:\n",
    "    trees=0\n",
    "    row,col=0,0\n",
    "    while (row:=row+slope[\"down\"]) < map_grid.shape[0]:\n",
    "        col+=slope[\"across\"]\n",
    "        trees += map_grid[(row, col % map_grid.shape[1])]\n",
    "    all_trees.append(trees)\n",
    "\n",
    "np.prod(np.array(all_trees).astype(np.int64)) # Set to int64 to avoid overflow"
   ]
  },
  {
   "cell_type": "markdown",
   "id": "c9551bc8-a9ae-4ac2-8b1d-3a9e4d25d4df",
   "metadata": {},
   "source": [
    "### Day Four"
   ]
  },
  {
   "cell_type": "code",
   "execution_count": 14,
   "id": "c4d78dd9-5c13-4828-9b93-d110bca1647e",
   "metadata": {
    "tags": []
   },
   "outputs": [],
   "source": [
    "input_data = \"\"\"ecl:gry pid:860033327 eyr:2020 hcl:#fffffd\n",
    "byr:1937 iyr:2017 cid:147 hgt:183cm\n",
    "\n",
    "iyr:2013 ecl:amb cid:350 eyr:2023 pid:028048884\n",
    "hcl:#cfa07d byr:1929\n",
    "\n",
    "hcl:#ae17e1 iyr:2013\n",
    "eyr:2024\n",
    "ecl:brn pid:760753108 byr:1931\n",
    "hgt:179cm\n",
    "\n",
    "hcl:#cfa07d eyr:2025 pid:166559648\n",
    "iyr:2011 ecl:brn hgt:59in\"\"\""
   ]
  },
  {
   "cell_type": "code",
   "execution_count": 15,
   "id": "55a4b371-7f6c-4f6b-8368-d8a61c998e0d",
   "metadata": {
    "tags": []
   },
   "outputs": [],
   "source": [
    "input_data = get_data(day=4, year=2020)"
   ]
  },
  {
   "cell_type": "code",
   "execution_count": 16,
   "id": "0e7d618f-0c09-4b78-9a28-b932a7d72095",
   "metadata": {
    "tags": []
   },
   "outputs": [
    {
     "data": {
      "text/plain": [
       "[{'iyr': '1928',\n",
       "  'cid': '150',\n",
       "  'pid': '476113241',\n",
       "  'eyr': '2039',\n",
       "  'hcl': 'a5ac0f',\n",
       "  'ecl': '#25f8d2',\n",
       "  'byr': '2027',\n",
       "  'hgt': '190'},\n",
       " {'hgt': '168cm',\n",
       "  'eyr': '2026',\n",
       "  'ecl': 'hzl',\n",
       "  'hcl': '#fffffd',\n",
       "  'cid': '169',\n",
       "  'pid': '920076943',\n",
       "  'byr': '1929',\n",
       "  'iyr': '2013'},\n",
       " {'hgt': '156cm',\n",
       "  'ecl': 'brn',\n",
       "  'eyr': '2023',\n",
       "  'iyr': '2011',\n",
       "  'hcl': '#6b5442',\n",
       "  'pid': '328412891',\n",
       "  'byr': '1948'},\n",
       " {'byr': '1950',\n",
       "  'iyr': '2019',\n",
       "  'eyr': '2020',\n",
       "  'ecl': 'amb',\n",
       "  'cid': '279',\n",
       "  'pid': '674907993',\n",
       "  'hgt': '189cm',\n",
       "  'hcl': '#602927'},\n",
       " {'byr': '1976',\n",
       "  'ecl': 'hzl',\n",
       "  'iyr': '2015',\n",
       "  'hgt': '178cm',\n",
       "  'eyr': '2022',\n",
       "  'hcl': '#341e13',\n",
       "  'pid': '473630095'}]"
      ]
     },
     "execution_count": 16,
     "metadata": {},
     "output_type": "execute_result"
    }
   ],
   "source": [
    "passports = input_data.split(\"\\n\\n\")\n",
    "passports = [value.replace(\"\\n\", \" \") for value in passports]\n",
    "passports = [dict(key_value.split(\":\") for key_value in passport.split()) for passport in passports]\n",
    "passports[:5]"
   ]
  },
  {
   "cell_type": "code",
   "execution_count": 17,
   "id": "d45abec1-6689-41c5-8fd5-a30c1f1d4072",
   "metadata": {
    "tags": []
   },
   "outputs": [
    {
     "data": {
      "text/plain": [
       "190"
      ]
     },
     "execution_count": 17,
     "metadata": {},
     "output_type": "execute_result"
    }
   ],
   "source": [
    "# Part One\n",
    "\n",
    "valid = 0\n",
    "\n",
    "for passport in passports:\n",
    "    if len(passport) == 8 or (len(passport) == 7 and \"cid\" not in passport.keys()):\n",
    "        valid += 1\n",
    "\n",
    "valid"
   ]
  },
  {
   "cell_type": "code",
   "execution_count": 18,
   "id": "816ff266-9647-457c-a87d-00f930d66b60",
   "metadata": {
    "tags": []
   },
   "outputs": [
    {
     "data": {
      "text/plain": [
       "121"
      ]
     },
     "execution_count": 18,
     "metadata": {},
     "output_type": "execute_result"
    }
   ],
   "source": [
    "# Part Two\n",
    "\n",
    "def check(passport):\n",
    "    if \"cm\" in passport[\"hgt\"]:\n",
    "        height = int(passport[\"hgt\"][:-2])\n",
    "    elif \"in\" in passport[\"hgt\"]:\n",
    "        height = int(float(passport[\"hgt\"][:-2])*2.54)\n",
    "    else:\n",
    "        height = 0\n",
    "    rules = [\n",
    "        1920 <= int(passport[\"byr\"]) <= 2022,\n",
    "        2010 <= int(passport[\"iyr\"]) <= 2020,\n",
    "        2020 <= int(passport[\"eyr\"]) <= 2030,\n",
    "        150 <= height <= 193,\n",
    "        bool(re.match(\"#[0-9a-f]{6}$\", passport[\"hcl\"])),\n",
    "        passport[\"ecl\"] in [\"amb\", \"blu\", \"brn\", \"gry\", \"grn\", \"hzl\", \"oth\"],\n",
    "        len(passport[\"pid\"]) == 9\n",
    "    ]\n",
    "    return all(rules)\n",
    "\n",
    "valid = 0\n",
    "\n",
    "for passport in passports:\n",
    "    if {\"byr\", \"iyr\", \"eyr\", \"hgt\", \"hcl\", \"ecl\", \"pid\"}.issubset(set(passport.keys())): # Subset as may also contain \"cid\"\n",
    "        valid += check(passport)\n",
    "\n",
    "valid"
   ]
  },
  {
   "cell_type": "code",
   "execution_count": null,
   "id": "e0e1f184-ff74-47f3-9e26-4e27f1d38f11",
   "metadata": {
    "tags": []
   },
   "outputs": [],
   "source": []
  }
 ],
 "metadata": {
  "kernelspec": {
   "display_name": "Python 3 (ipykernel)",
   "language": "python",
   "name": "python3"
  },
  "language_info": {
   "codemirror_mode": {
    "name": "ipython",
    "version": 3
   },
   "file_extension": ".py",
   "mimetype": "text/x-python",
   "name": "python",
   "nbconvert_exporter": "python",
   "pygments_lexer": "ipython3",
   "version": "3.11.3"
  }
 },
 "nbformat": 4,
 "nbformat_minor": 5
}
